{
 "cells": [
  {
   "cell_type": "markdown",
   "source": [
    "# ACDC\n",
    "\n",
    "The code for ACDC experiments is organized as follows:\n",
    "\n",
    "- Preprocessing: scripts for data preprocessing\n",
    "- Training: scripts for CNN training\n",
    "- Prediction: scripts for prediction if a trained model is available\n",
    "- Validation: scripts for validation, to obtain the results as shown in the paper\n",
    "\n",
    "# Download dataset\n",
    "The ACDC dataset can be found on https://www.creatis.insa-lyon.fr/Challenge/acdc/databases.html\n",
    "\n",
    "# Data preprocessing\n",
    "Run the script /ACDC/Preprocessing/ACDC_preprocess.m.\n",
    "The preprocessed images are saved in /ACDC/Preprocessed_images.\n",
    "\n",
    "Required parameters to set:\n",
    "* datafolder: the directory where the raw ACDC images are saved\n",
    "* main_dir: this directory with scripts for ACDC experiments (/dicegrad/ACDC)\n",
    "\n",
    "The scripts additionally uses a nifti conversion package: https://nl.mathworks.com/matlabcentral/fileexchange/8797-tools-for-nifti-and-analyze-image\n",
    "\n",
    "# CNN training\n",
    "This folder contains the scripts for training all the ACDC models of the paper. Some scripts are configured to train multiple CNNs. To choose one of them, please look in the $'__main__'$ at the bottom of each script.\n",
    "\n",
    "Required parameters to set:\n",
    "* main_dir: this directory with scripts for ACDC experiments (/dicegrad/ACDC\\)\n",
    "\n",
    "The different scripts:\n",
    "- ACDC_train_full_image_DSC_and_full_batch_DSC.py\n",
    "    Training on fully labeled data, i.e. LV, RV and myocardium in both ED and ES.\n",
    "    * full_image_DSC: experiment $I$\n",
    "    * full_batch_DSC: experiment $BI$\n",
    "- ACDC_train_full_image_eps_DSC.py\n",
    "    Training on fully labeled data.\n",
    "    * full_image_eps_DSC: experiment $I_{\\epsilon}$\n",
    "- ACDC_train_partial_image_DSC_and_partial_batch_DSC.py\n",
    "    Training on partially labeled data, i.e. myocardium in ES is not labeled.\n",
    "    * partial_image_DSC: experiment $I$\n",
    "    * partial_batch_DSC: experiment $BI$\n",
    "- ACDC_train_partial_image_eps_DSC.py\n",
    "    Training on partially labeled data.\n",
    "    * partial_image_eps_DSC: experiment $I_{\\epsilon}$\n",
    "- ACDC_train_marginalDSC.py\n",
    "    Training on partially labeled data.\n",
    "    * partial_marginal_DSC: training with the marginal Dice loss (https://arxiv.org/pdf/2007.03868.pdf)\n",
    "- ACDC_train_leafDSC.py\n",
    "    Training on partially labeled data.\n",
    "    * partial_leaf_DSC: training with leaf Dice loss (https://arxiv.org/abs/2107.03846)\n",
    "\n",
    "The trained models and the predictions are saved in /ACDC/Trained_models.\n",
    "\n",
    "# Prediction\n",
    "When running the training scripts, the necessary predictions to perform the validation are already created.\n",
    "The script 'ACDC_predict.py' can be used if additional predictions for an existing model are required.\n",
    "\n",
    "# Validation\n",
    "Generate the metrics and figures of the paper.\n",
    "\n",
    "- Validation_ACDC_table1.m\n",
    "    * Calculate Dice coefficients\n",
    "    * Calculate volume errors\n",
    "    * Plot AUC\n",
    "    * Significance tests between full and partial labeling\n",
    "- Validation_ACDC_comp_marginal_leaf.m\n",
    "    * Calculate Dice coefficients of experiment $I$, marginal Dice loss and leaf Dice loss\n",
    "    * Significance teste between results of the three experiments\n",
    "- Fig_3.m\n",
    "    * Plot the ACDC images shown in Fig. 3."
   ],
   "metadata": {
    "collapsed": false,
    "pycharm": {
     "name": "#%% md\n"
    }
   }
  }
 ],
 "metadata": {
  "kernelspec": {
   "display_name": "Python 3",
   "language": "python",
   "name": "python3"
  },
  "language_info": {
   "codemirror_mode": {
    "name": "ipython",
    "version": 2
   },
   "file_extension": ".py",
   "mimetype": "text/x-python",
   "name": "python",
   "nbconvert_exporter": "python",
   "pygments_lexer": "ipython2",
   "version": "2.7.6"
  }
 },
 "nbformat": 4,
 "nbformat_minor": 0
}