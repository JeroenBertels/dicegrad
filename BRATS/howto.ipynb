{
 "cells": [
  {
   "cell_type": "markdown",
   "metadata": {
    "collapsed": true,
    "pycharm": {
     "name": "#%% md\n"
    }
   },
   "source": [
    "# BRATS\n",
    "The code for the BRATS experiments is organized as follows:\n",
    "- create_dataset function to create a DVN2 dataset of the BRATS 2018 dataset\n",
    "- train function to create a DVN2 model according to the specified options that can be trained, saved, used for testing\n",
    "- perform_analysis function to create results table, ROC plot and figure with qualitative examples as in the paper"
   ]
  },
  {
   "cell_type": "markdown",
   "source": [
    "## Create the BRATS dataset\n",
    "First, you have to unzip the training data of BRATS 2018 in a DATASET_DIR directory.\n",
    "Then, using the ```create_dataset``` function you can convert it to a DVN2 Dataset object.\n",
    "This can be done using multiple options, e.g. to obtain a \"train\" or \"val\" dataset of a specific fold, retain only a certain fraction or even mask the \"LGG\" or \"HGG\" cases with zeros."
   ],
   "metadata": {
    "collapsed": false,
    "pycharm": {
     "name": "#%% md\n"
    }
   }
  },
  {
   "cell_type": "code",
   "execution_count": 1,
   "outputs": [
    {
     "name": "stdout",
     "output_type": "stream",
     "text": [
      "Mean whole tumor size: 71554 (@ 1x1x1) and 8944 (@ 2x2x2)\n"
     ]
    }
   ],
   "source": [
    "import numpy as np\n",
    "from BRATS.dataset import create_dataset\n",
    "DATASET_DIR =\"/usr/local/micapollo01/MIC/DATA/SHARED/STAFF/jberte3/BRATS_Challenge/2018/Raw_data/MICCAI_BraTS_2018_Data_Training\"  # to be replaced with correct directory\n",
    "\n",
    "\n",
    "brats_dataset = create_dataset(DATASET_DIR, data=\"train\", fold_i=0, mask_subset=\"lgg\")\n",
    "mean_wt_size_1 = np.mean([brats_dataset[case_id][\"record_0\"][\"output\"].load().sum() for case_id in brats_dataset])\n",
    "mean_wt_size_2 = mean_wt_size_1 / 8\n",
    "print(\"Mean whole tumor size: {:.0f} (@ 1x1x1) and {:.0f} (@ 2x2x2)\".format(mean_wt_size_1, mean_wt_size_2))"
   ],
   "metadata": {
    "collapsed": false,
    "pycharm": {
     "name": "#%%\n"
    }
   }
  },
  {
   "cell_type": "markdown",
   "source": [
    "## Create DVN2 model and do training\n",
    "All experiments of the paper can be run using the ```train``` function and using permutations of the following options:\n",
    "- $\\Phi$ in [\"I\", \"BI\", \"IC\", \"BIC\"]\n",
    "- $\\epsilon$ in [0, 8789, 12412]\n",
    "- batch_size in [1, 2, 4, 8]\n",
    "- fraction in [0.74, 1]"
   ],
   "metadata": {
    "collapsed": false,
    "pycharm": {
     "name": "#%% md\n"
    }
   }
  },
  {
   "cell_type": "code",
   "execution_count": 1,
   "outputs": [],
   "source": [
    "from BRATS.training import train\n",
    "OUTPUT_DIR = \"/usr/local/micapollo01/MIC/DATA/STAFF/jberte3/tmp/datasets/Runs/experiments_of_paper\"\n",
    "\n",
    "\n",
    "train(\n",
    "    dataset_dir=DATASET_DIR,\n",
    "    output_dir=OUTPUT_DIR,\n",
    "    fold_i=0,\n",
    "    mask_subset=None,\n",
    "    fraction=1,\n",
    "    phi=\"BIC\",\n",
    "    epsilon=1e-7,\n",
    "    batch_size=2\n",
    ")"
   ],
   "metadata": {
    "collapsed": false,
    "pycharm": {
     "name": "#%%\n"
    }
   }
  },
  {
   "cell_type": "markdown",
   "source": [
    "## Perform the analysis\n",
    "Using the saved model or predictions, we can now create the results using the ```print_table```, ```draw_plots``` and ```draw_figures``` functions."
   ],
   "metadata": {
    "collapsed": false,
    "pycharm": {
     "name": "#%% md\n"
    }
   }
  },
  {
   "cell_type": "code",
   "execution_count": null,
   "outputs": [],
   "source": [],
   "metadata": {
    "collapsed": false,
    "pycharm": {
     "name": "#%%\n"
    }
   }
  }
 ],
 "metadata": {
  "kernelspec": {
   "display_name": "Python 3",
   "language": "python",
   "name": "python3"
  },
  "language_info": {
   "codemirror_mode": {
    "name": "ipython",
    "version": 2
   },
   "file_extension": ".py",
   "mimetype": "text/x-python",
   "name": "python",
   "nbconvert_exporter": "python",
   "pygments_lexer": "ipython2",
   "version": "2.7.6"
  }
 },
 "nbformat": 4,
 "nbformat_minor": 0
}