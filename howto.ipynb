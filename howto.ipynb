{
 "cells": [
  {
   "cell_type": "markdown",
   "metadata": {
    "collapsed": true,
    "pycharm": {
     "name": "#%% md\n"
    }
   },
   "source": [
    "This repository accompanies our paper \"Analyzing the gradients of the Dice loss in the context of missing or empty labels: Introducing $\\Phi$ and $\\epsilon$\", which can be found [here]{https://arxiv.org/abs/2207.09521}.\n",
    "We have made use of the [DeepVoxNet2]{https://github.com/JeroenBertels/deepvoxnet2} (DVN2) framework. A working Python environment with all necessary packages can be created easily by installing DVN2 through pip.\n",
    "\n",
    "# BRATS\n",
    "The code for the BRATS experiments is organized as follows:\n",
    "- create_dataset function to create a DVN2 dataset of the BRATS 2018 dataset\n",
    "- create_model function to create a DVN2 model that can be trained, saved, used for testing\n",
    "- perform_analysis function to create results table, ROC plot and figure with qualitative examples"
   ]
  },
  {
   "cell_type": "code",
   "execution_count": 1,
   "outputs": [
    {
     "name": "stdout",
     "output_type": "stream",
     "text": [
      "Mean whole tumor size: 71554 (@ 1x1x1) and 8944 (@ 2x2x2)\n"
     ]
    }
   ],
   "source": [
    "import numpy as np\n",
    "from BRATS.dataset import create_dataset\n",
    "DATASET_DIR =\"/usr/local/micapollo01/MIC/DATA/SHARED/STAFF/jberte3/BRATS_Challenge/2018/Raw_data/MICCAI_BraTS_2018_Data_Training\"\n",
    "\n",
    "\n",
    "brats_dataset = create_dataset(DATASET_DIR, data=\"train\", fold_i=0, mask_subset=\"lgg\")\n",
    "mean_wt_size_1 = np.mean([brats_dataset[case_id][\"record_0\"][\"output\"].load().sum() for case_id in brats_dataset])\n",
    "mean_wt_size_2 = mean_wt_size_1 / 8\n",
    "print(\"Mean whole tumor size: {:.0f} (@ 1x1x1) and {:.0f} (@ 2x2x2)\".format(mean_wt_size_1, mean_wt_size_2))"
   ],
   "metadata": {
    "collapsed": false,
    "pycharm": {
     "name": "#%%\n"
    }
   }
  },
  {
   "cell_type": "markdown",
   "source": [
    "All experiments of the paper can be run using permutations of the following options:\n",
    "- $\\Phi$ in [\"I\", \"BI\", \"IC\", \"BIC\"]\n",
    "- $\\epsilon$ in [0, 8789, 12412]\n",
    "- batch_size in [1, 2, 4, 8]\n",
    "- fraction in [0.74, 1]"
   ],
   "metadata": {
    "collapsed": false,
    "pycharm": {
     "name": "#%% md\n"
    }
   }
  },
  {
   "cell_type": "code",
   "execution_count": 1,
   "outputs": [],
   "source": [
    "from BRATS.training import train\n",
    "BASE_DIR = \"/usr/local/micapollo01/MIC/DATA/STAFF/jberte3/tmp/datasets/Runs\"\n",
    "\n",
    "train(\n",
    "    dataset_dir=DATASET_DIR,\n",
    "    base_dir=BASE_DIR,\n",
    "    run_name=\"experiments_of_paper\",\n",
    "    fold_i=0,\n",
    "    mask_subset=None,\n",
    "    fraction=1,\n",
    "    phi=\"BIC\",\n",
    "    epsilon=1e-7,\n",
    "    batch_size=2\n",
    ")"
   ],
   "metadata": {
    "collapsed": false,
    "pycharm": {
     "name": "#%%\n"
    }
   }
  }
 ],
 "metadata": {
  "kernelspec": {
   "display_name": "Python 3",
   "language": "python",
   "name": "python3"
  },
  "language_info": {
   "codemirror_mode": {
    "name": "ipython",
    "version": 2
   },
   "file_extension": ".py",
   "mimetype": "text/x-python",
   "name": "python",
   "nbconvert_exporter": "python",
   "pygments_lexer": "ipython2",
   "version": "2.7.6"
  }
 },
 "nbformat": 4,
 "nbformat_minor": 0
}